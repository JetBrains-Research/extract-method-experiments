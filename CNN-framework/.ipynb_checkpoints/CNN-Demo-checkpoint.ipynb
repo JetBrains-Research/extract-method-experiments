{
 "cells": [
  {
   "cell_type": "code",
   "execution_count": 17,
   "metadata": {},
   "outputs": [],
   "source": [
    "#import libraries\n",
    "import pandas as pd\n",
    "import numpy as np\n",
    "import matplotlib.pyplot as plt\n",
    "from sklearn.preprocessing import StandardScaler\n",
    "import tensorflow as tf\n",
    "from keras.models import Sequential\n",
    "from keras.layers import Dropout, LSTM, Flatten, Dense\n",
    "from keras.layers.convolutional import Conv1D, MaxPooling1D\n",
    "from sklearn import metrics\n",
    "from sklearn.metrics import roc_auc_score\n",
    "from sklearn.metrics import precision_recall_curve\n",
    "from sklearn.metrics import auc\n",
    "from sklearn.metrics import confusion_matrix"
   ]
  },
  {
   "cell_type": "markdown",
   "metadata": {},
   "source": [
    "# Data Input and Model Creation"
   ]
  },
  {
   "cell_type": "code",
   "execution_count": 12,
   "metadata": {},
   "outputs": [],
   "source": [
    "\"\"\"\n",
    "Function takes in preprocessed data (classes balanced, duplicates removed, NOT normalized)\n",
    "The standard scaler has to be exported so it is important to normalize the data here\n",
    "\n",
    "Change the paths in trainFull and TestFull to desired preprocessedData\n",
    "\n",
    "\"\"\"\n",
    "def getPreprocessedData():\n",
    "    #Read in preprocessed data\n",
    "    trainFull = pd.read_csv(\"PreprocessedData/trainFull.csv\", delimiter = \";\")\n",
    "    testFull = pd.read_csv(\"PreprocessedData/testFull.csv\", delimiter = \";\")\n",
    "\n",
    "    #Randomize samples\n",
    "    trainFull = trainFull.sample(len(trainFull))\n",
    "    testFull = testFull.sample(len(testFull))\n",
    "\n",
    "    #Reduce features and extract labels\n",
    "    trainX = trainFull.iloc[:,:-2]\n",
    "    trainY = trainFull.iloc[:,-1]\n",
    "    testX = testFull.iloc[:,:-2]\n",
    "    testY = testFull.iloc[:,-1]\n",
    "    #Standard scale training data\n",
    "    trainScaler = StandardScaler()\n",
    "    trainScaler.fit(trainX)\n",
    "    trainX = trainScaler.transform(trainX)\n",
    "\n",
    "    #Export standard scale\n",
    "    #dump(trainScaler, 'standardScaler.bin', compress=True)\n",
    "\n",
    "    #Standard scale testing data\n",
    "    testScaler = StandardScaler()\n",
    "    testScaler.fit(testX)\n",
    "    testX = testScaler.transform(testX)\n",
    "\n",
    "    #Reshape data to 3D for CNN\n",
    "    trainX = trainX[..., None]\n",
    "    trainY = trainY[..., None]\n",
    "    testX = testX[..., None]\n",
    "    testY = testY[..., None]\n",
    "\n",
    "    return trainX, trainY, testX, testY\n"
   ]
  },
  {
   "cell_type": "code",
   "execution_count": 6,
   "metadata": {},
   "outputs": [],
   "source": [
    "\"\"\"\n",
    "This method contains the architecture for the CNN used.\n",
    "It uses tensorflow sequential as the basis to crease the model.\n",
    "\n",
    "@param numConvFilters: number of convolutional filters in the 2nd hidden layer. We recommend >32 to upscale.\n",
    "@param dropout: fraction of nodes dropped out of the Max Pooling layer.\n",
    "@param numDenseNodes: number of dense nodes in the feed forward layer.\n",
    "\n",
    "Recommended:\n",
    "numConvFilters = 242\n",
    "dropout = .215\n",
    "numDenseNodes = 190\n",
    "\n",
    "\"\"\"\n",
    "def newModel(numConvFilters = 242, dropout = .215, numDenseNodes = 190):\n",
    "    #Create new sequential model\n",
    "    model = Sequential()\n",
    "\n",
    "    #Add 1D Convolutional layers\n",
    "    model.add((Conv1D(filters=32, kernel_size=3, activation='relu')))\n",
    "    model.add((Conv1D(filters=numConvFilters, kernel_size=3, activation='relu')))\n",
    "    #Add Max Pooling layer\n",
    "    model.add((MaxPooling1D(pool_size=2)))\n",
    "    #Apply dropout\n",
    "    model.add(Dropout(dropout))\n",
    "    #Flatten model\n",
    "    model.add(Flatten())\n",
    "    #Add fully connected dense layer\n",
    "    model.add(Dense(numDenseNodes, activation='sigmoid'))\n",
    "    #Add output node\n",
    "    model.add(Dense(1, activation='sigmoid'))\n",
    "    \n",
    "    #Define optimizer\n",
    "    adam = tf.optimizers.Adam(learning_rate=0.001, beta_1=0.9, beta_2=0.999, epsilon=None, decay=0.0)\n",
    "    #Compile model\n",
    "    model.compile(optimizer=adam, loss='binary_crossentropy', metrics=[tf.keras.metrics.AUC(curve='PR'),                                                                                         tf.keras.metrics.PrecisionAtRecall(0.8)])\n",
    "    return model"
   ]
  },
  {
   "cell_type": "code",
   "execution_count": 8,
   "metadata": {},
   "outputs": [
    {
     "name": "stderr",
     "output_type": "stream",
     "text": [
      "/var/folders/fr/03zv9zcj7j146mrr4jsb58kw0000gn/T/ipykernel_40453/3041198686.py:30: FutureWarning: Support for multi-dimensional indexing (e.g. `obj[:, None]`) is deprecated and will be removed in a future version.  Convert to a numpy array before indexing instead.\n",
      "  trainY = trainY[..., None]\n",
      "/var/folders/fr/03zv9zcj7j146mrr4jsb58kw0000gn/T/ipykernel_40453/3041198686.py:32: FutureWarning: Support for multi-dimensional indexing (e.g. `obj[:, None]`) is deprecated and will be removed in a future version.  Convert to a numpy array before indexing instead.\n",
      "  testY = testY[..., None]\n",
      "2022-04-12 10:12:53.708582: I tensorflow/core/platform/cpu_feature_guard.cc:142] This TensorFlow binary is optimized with oneAPI Deep Neural Network Library (oneDNN) to use the following CPU instructions in performance-critical operations:  AVX2 FMA\n",
      "To enable them in other operations, rebuild TensorFlow with the appropriate compiler flags.\n",
      "2022-04-12 10:12:54.826330: I tensorflow/compiler/mlir/mlir_graph_optimization_pass.cc:185] None of the MLIR Optimization Passes are enabled (registered 2)\n"
     ]
    },
    {
     "name": "stdout",
     "output_type": "stream",
     "text": [
      "Epoch 1/30\n",
      "719/719 [==============================] - 23s 27ms/step - loss: 0.5703 - auc: 0.7672 - precision_at_recall: 0.6574\n",
      "Epoch 2/30\n",
      "719/719 [==============================] - 23s 31ms/step - loss: 0.5247 - auc: 0.8158 - precision_at_recall: 0.6983\n",
      "Epoch 3/30\n",
      "719/719 [==============================] - 23s 32ms/step - loss: 0.5007 - auc: 0.8370 - precision_at_recall: 0.7151\n",
      "Epoch 4/30\n",
      "719/719 [==============================] - 23s 31ms/step - loss: 0.4864 - auc: 0.8462 - precision_at_recall: 0.7292\n",
      "Epoch 5/30\n",
      "719/719 [==============================] - 21s 29ms/step - loss: 0.4718 - auc: 0.8572 - precision_at_recall: 0.7444\n",
      "Epoch 6/30\n",
      "719/719 [==============================] - 21s 29ms/step - loss: 0.4602 - auc: 0.8658 - precision_at_recall: 0.7586\n",
      "Epoch 7/30\n",
      "719/719 [==============================] - 18s 26ms/step - loss: 0.4496 - auc: 0.8731 - precision_at_recall: 0.7644\n",
      "Epoch 8/30\n",
      "719/719 [==============================] - 21s 29ms/step - loss: 0.4352 - auc: 0.8813 - precision_at_recall: 0.7835 2s - loss: 0.4387 - \n",
      "Epoch 9/30\n",
      "719/719 [==============================] - 19s 27ms/step - loss: 0.4283 - auc: 0.8856 - precision_at_recall: 0.7833\n",
      "Epoch 10/30\n",
      "719/719 [==============================] - 19s 26ms/step - loss: 0.4126 - auc: 0.8946 - precision_at_recall: 0.8068\n",
      "Epoch 11/30\n",
      "719/719 [==============================] - 27s 38ms/step - loss: 0.3987 - auc: 0.9023 - precision_at_recall: 0.8174\n",
      "Epoch 12/30\n",
      "719/719 [==============================] - 20s 28ms/step - loss: 0.3813 - auc: 0.9112 - precision_at_recall: 0.8326\n",
      "Epoch 13/30\n",
      "719/719 [==============================] - 22s 30ms/step - loss: 0.3672 - auc: 0.9176 - precision_at_recall: 0.8433\n",
      "Epoch 14/30\n",
      "719/719 [==============================] - 22s 31ms/step - loss: 0.3514 - auc: 0.9253 - precision_at_recall: 0.8618 1s - loss: 0.3523 - auc: 0.924\n",
      "Epoch 15/30\n",
      "719/719 [==============================] - 20s 28ms/step - loss: 0.3349 - auc: 0.9327 - precision_at_recall: 0.8699\n",
      "Epoch 16/30\n",
      "719/719 [==============================] - 20s 27ms/step - loss: 0.3171 - auc: 0.9398 - precision_at_recall: 0.8862\n",
      "Epoch 17/30\n",
      "719/719 [==============================] - 21s 30ms/step - loss: 0.2983 - auc: 0.9470 - precision_at_recall: 0.9065\n",
      "Epoch 18/30\n",
      "719/719 [==============================] - 23s 31ms/step - loss: 0.2835 - auc: 0.9526 - precision_at_recall: 0.9133\n",
      "Epoch 19/30\n",
      "719/719 [==============================] - 19s 26ms/step - loss: 0.2662 - auc: 0.9584 - precision_at_recall: 0.9301\n",
      "Epoch 20/30\n",
      "719/719 [==============================] - 18s 26ms/step - loss: 0.2459 - auc: 0.9650 - precision_at_recall: 0.9407\n",
      "Epoch 21/30\n",
      "719/719 [==============================] - 20s 28ms/step - loss: 0.2300 - auc: 0.9697 - precision_at_recall: 0.9508\n",
      "Epoch 22/30\n",
      "719/719 [==============================] - 22s 30ms/step - loss: 0.2117 - auc: 0.9747 - precision_at_recall: 0.9636\n",
      "Epoch 23/30\n",
      "719/719 [==============================] - 22s 30ms/step - loss: 0.1978 - auc: 0.9777 - precision_at_recall: 0.9694\n",
      "Epoch 24/30\n",
      "719/719 [==============================] - 20s 27ms/step - loss: 0.1835 - auc: 0.9813 - precision_at_recall: 0.9795\n",
      "Epoch 25/30\n",
      "719/719 [==============================] - 20s 28ms/step - loss: 0.1705 - auc: 0.9839 - precision_at_recall: 0.9808\n",
      "Epoch 26/30\n",
      "719/719 [==============================] - 34s 47ms/step - loss: 0.1582 - auc: 0.9865 - precision_at_recall: 0.9882\n",
      "Epoch 27/30\n",
      "719/719 [==============================] - 25s 35ms/step - loss: 0.1486 - auc: 0.9879 - precision_at_recall: 0.9894\n",
      "Epoch 28/30\n",
      "719/719 [==============================] - 24s 33ms/step - loss: 0.1367 - auc: 0.9901 - precision_at_recall: 0.9933\n",
      "Epoch 29/30\n",
      "719/719 [==============================] - 23s 31ms/step - loss: 0.1285 - auc: 0.9911 - precision_at_recall: 0.9938\n",
      "Epoch 30/30\n",
      "719/719 [==============================] - 22s 30ms/step - loss: 0.1209 - auc: 0.9925 - precision_at_recall: 0.9971\n"
     ]
    },
    {
     "data": {
      "text/plain": [
       "<keras.callbacks.History at 0x7ff360920490>"
      ]
     },
     "execution_count": 8,
     "metadata": {},
     "output_type": "execute_result"
    }
   ],
   "source": [
    "trainX, trainY, testX, testY = getPreprocessedData()\n",
    "model = newModel()\n",
    "model.fit(trainX, trainY, epochs = 30, batch_size=20, verbose = 1)"
   ]
  },
  {
   "cell_type": "markdown",
   "metadata": {},
   "source": [
    "# Validation and Analysis "
   ]
  },
  {
   "cell_type": "code",
   "execution_count": 10,
   "metadata": {},
   "outputs": [],
   "source": [
    "#create confusion Matrix\n",
    "def confusionMatrix(model, testX, testY):\n",
    "    pred = model.predict(testX)\n",
    "    predy = []\n",
    "    for i in range(0,len(pred)):\n",
    "        if pred[i] >= .5:\n",
    "            predy.append(1)\n",
    "        else:\n",
    "            predy.append(0)\n",
    "        \n",
    "    print(confusion_matrix(testY,predy))\n",
    "    \n",
    "#Calculates our model metrics\n",
    "def modelMetrics(testX, testY, model):\n",
    "    y_scores = model.predict(testX)\n",
    "    precision, recall, thresholds = precision_recall_curve(testY, y_scores)\n",
    "    rec80 = np.max(recall[precision >= .8])\n",
    "    print(\"Recall at 80% Precision: \" +str(rec80))\n",
    "    aucPR = auc(recall, precision)\n",
    "    print(\"PR-AUC: \" + str(aucPR))\n",
    "    \n",
    "    return rec80, aucPR, \n",
    "\n",
    "#plots a PR curve\n",
    "def PRplot(testX, testY, model):\n",
    "    y_scores = model.predict(testX)\n",
    "    precision, recall, thresholds = precision_recall_curve(testY, y_scores)\n",
    "    plt.plot(recall, precision)\n",
    "    plt.title(\"PR curve\")\n",
    "    plt.xlabel(\"Recall\")\n",
    "    plt.ylabel(\"Precision\")"
   ]
  },
  {
   "cell_type": "code",
   "execution_count": 18,
   "metadata": {},
   "outputs": [
    {
     "name": "stdout",
     "output_type": "stream",
     "text": [
      "Recall at 80% Precision: 0.9416863672182821\n",
      "PR-AUC: 0.94072909977389\n",
      "[[2116  422]\n",
      " [ 243 2295]]\n"
     ]
    },
    {
     "data": {
      "image/png": "[encoded data removed]",
      "text/plain": [
       "<Figure size 432x288 with 1 Axes>"
      ]
     },
     "metadata": {
      "needs_background": "light"
     },
     "output_type": "display_data"
    }
   ],
   "source": [
    "modelMetrics(testX, testY, model)\n",
    "confusionMatrix(model, testX, testY)\n",
    "PRplot(testX, testY, model)"
   ]
  },
  {
   "cell_type": "code",
   "execution_count": null,
   "metadata": {},
   "outputs": [],
   "source": []
  }
 ],
 "metadata": {
  "kernelspec": {
   "display_name": "Python 3 (ipykernel)",
   "language": "python",
   "name": "python3"
  },
  "language_info": {
   "codemirror_mode": {
    "name": "ipython",
    "version": 3
   },
   "file_extension": ".py",
   "mimetype": "text/x-python",
   "name": "python",
   "nbconvert_exporter": "python",
   "pygments_lexer": "ipython3",
   "version": "3.9.7"
  }
 },
 "nbformat": 4,
 "nbformat_minor": 2
}
