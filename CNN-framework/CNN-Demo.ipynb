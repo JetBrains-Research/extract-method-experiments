{
 "cells": [
  {
   "cell_type": "code",
   "execution_count": 1,
   "metadata": {},
   "outputs": [],
   "source": [
    "#import libraries\n",
    "import pandas as pd\n",
    "import numpy as np\n",
    "import matplotlib.pyplot as plt\n",
    "from sklearn.preprocessing import StandardScaler\n",
    "import tensorflow as tf\n",
    "from keras.models import Sequential\n",
    "from keras.layers import Dropout, LSTM, Flatten, Dense\n",
    "from keras.layers.convolutional import Conv1D, MaxPooling1D\n",
    "from sklearn import metrics\n",
    "from sklearn.metrics import roc_auc_score\n",
    "from sklearn.metrics import precision_recall_curve\n",
    "from sklearn.metrics import auc\n",
    "from sklearn.metrics import confusion_matrix"
   ]
  },
  {
   "cell_type": "markdown",
   "metadata": {},
   "source": [
    "# Data Input and Model Creation"
   ]
  },
  {
   "cell_type": "code",
   "execution_count": 2,
   "metadata": {},
   "outputs": [],
   "source": [
    "\"\"\"\n",
    "Function takes in preprocessed data (classes balanced, duplicates removed, NOT normalized)\n",
    "The standard scaler has to be exported so it is important to normalize the data here\n",
    "\n",
    "Change the paths in trainFull and TestFull to desired preprocessedData\n",
    "\n",
    "\"\"\"\n",
    "def getPreprocessedData():\n",
    "    #Read in preprocessed data\n",
    "    trainFull = pd.read_csv(\"PreprocessedData/trainFull.csv\", delimiter = \";\")\n",
    "    testFull = pd.read_csv(\"PreprocessedData/testFull.csv\", delimiter = \";\")\n",
    "\n",
    "    #Randomize samples\n",
    "    trainFull = trainFull.sample(len(trainFull))\n",
    "    testFull = testFull.sample(len(testFull))\n",
    "\n",
    "    #Reduce features and extract labels\n",
    "    trainX = trainFull.iloc[:,:-2]\n",
    "    trainY = trainFull.iloc[:,-1]\n",
    "    testX = testFull.iloc[:,:-2]\n",
    "    testY = testFull.iloc[:,-1]\n",
    "    #Standard scale training data\n",
    "    trainScaler = StandardScaler()\n",
    "    trainScaler.fit(trainX)\n",
    "    trainX = trainScaler.transform(trainX)\n",
    "\n",
    "    #Export standard scale\n",
    "    #dump(trainScaler, 'standardScaler.bin', compress=True)\n",
    "\n",
    "    #Standard scale testing data\n",
    "    testScaler = StandardScaler()\n",
    "    testScaler.fit(testX)\n",
    "    testX = testScaler.transform(testX)\n",
    "\n",
    "    #Reshape data to 3D for CNN\n",
    "    trainX = trainX[..., None]\n",
    "    trainY = trainY[..., None]\n",
    "    testX = testX[..., None]\n",
    "    testY = testY[..., None]\n",
    "\n",
    "    return trainX, trainY, testX, testY\n"
   ]
  },
  {
   "cell_type": "code",
   "execution_count": 3,
   "metadata": {},
   "outputs": [],
   "source": [
    "\"\"\"\n",
    "This method contains the architecture for the CNN used.\n",
    "It uses tensorflow sequential as the basis to crease the model.\n",
    "\n",
    "@param numConvFilters: number of convolutional filters in the 2nd hidden layer. We recommend >32 to upscale.\n",
    "@param dropout: fraction of nodes dropped out of the Max Pooling layer.\n",
    "@param numDenseNodes: number of dense nodes in the feed forward layer.\n",
    "\n",
    "Recommended:\n",
    "numConvFilters = 242\n",
    "dropout = .215\n",
    "numDenseNodes = 190\n",
    "\n",
    "\"\"\"\n",
    "def newModel(numConvFilters = 242, dropout = .215, numDenseNodes = 190):\n",
    "    #Create new sequential model\n",
    "    model = Sequential()\n",
    "\n",
    "    #Add 1D Convolutional layers\n",
    "    model.add((Conv1D(filters=32, kernel_size=3, activation='relu')))\n",
    "    model.add((Conv1D(filters=numConvFilters, kernel_size=3, activation='relu')))\n",
    "    #Add Max Pooling layer\n",
    "    model.add((MaxPooling1D(pool_size=2)))\n",
    "    #Apply dropout\n",
    "    model.add(Dropout(dropout))\n",
    "    #Flatten model\n",
    "    model.add(Flatten())\n",
    "    #Add fully connected dense layer\n",
    "    model.add(Dense(numDenseNodes, activation='sigmoid'))\n",
    "    #Add output node\n",
    "    model.add(Dense(1, activation='sigmoid'))\n",
    "    \n",
    "    #Define optimizer\n",
    "    adam = tf.optimizers.Adam(learning_rate=0.001, beta_1=0.9, beta_2=0.999, epsilon=None, decay=0.0)\n",
    "    #Compile model\n",
    "    model.compile(optimizer=adam, loss='binary_crossentropy', metrics=[tf.keras.metrics.AUC(curve='PR'),                                                                                         tf.keras.metrics.PrecisionAtRecall(0.8)])\n",
    "    return model"
   ]
  },
  {
   "cell_type": "code",
   "execution_count": 7,
   "metadata": {},
   "outputs": [
    {
     "name": "stderr",
     "output_type": "stream",
     "text": [
      "/var/folders/fr/03zv9zcj7j146mrr4jsb58kw0000gn/T/ipykernel_40716/2525749527.py:37: FutureWarning: Support for multi-dimensional indexing (e.g. `obj[:, None]`) is deprecated and will be removed in a future version.  Convert to a numpy array before indexing instead.\n",
      "  trainY = trainY[..., None]\n",
      "/var/folders/fr/03zv9zcj7j146mrr4jsb58kw0000gn/T/ipykernel_40716/2525749527.py:39: FutureWarning: Support for multi-dimensional indexing (e.g. `obj[:, None]`) is deprecated and will be removed in a future version.  Convert to a numpy array before indexing instead.\n",
      "  testY = testY[..., None]\n"
     ]
    },
    {
     "name": "stdout",
     "output_type": "stream",
     "text": [
      "Epoch 1/3\n",
      "719/719 [==============================] - 40s 53ms/step - loss: 0.5711 - auc_1: 0.7682 - precision_at_recall_1: 0.6565\n",
      "Epoch 2/3\n",
      "719/719 [==============================] - 30s 41ms/step - loss: 0.5203 - auc_1: 0.8208 - precision_at_recall_1: 0.7013\n",
      "Epoch 3/3\n",
      "719/719 [==============================] - 24s 33ms/step - loss: 0.5024 - auc_1: 0.8349 - precision_at_recall_1: 0.7145\n"
     ]
    },
    {
     "data": {
      "text/plain": [
       "<keras.callbacks.History at 0x7fc701a7b580>"
      ]
     },
     "execution_count": 7,
     "metadata": {},
     "output_type": "execute_result"
    }
   ],
   "source": [
    "trainX, trainY, testX, testY = getPreprocessedData()\n",
    "model = newModel()\n",
    "model.fit(trainX, trainY, epochs = 3, batch_size=20, verbose = 1)"
   ]
  },
  {
   "cell_type": "markdown",
   "metadata": {},
   "source": [
    "# Validation and Analysis "
   ]
  },
  {
   "cell_type": "code",
   "execution_count": 5,
   "metadata": {},
   "outputs": [],
   "source": [
    "#create confusion Matrix\n",
    "def confusionMatrix(model, testX, testY):\n",
    "    pred = model.predict(testX)\n",
    "    predy = []\n",
    "    for i in range(0,len(pred)):\n",
    "        if pred[i] >= .5:\n",
    "            predy.append(1)\n",
    "        else:\n",
    "            predy.append(0)\n",
    "        \n",
    "    print(confusion_matrix(testY,predy))\n",
    "    \n",
    "#Calculates our model metrics\n",
    "def modelMetrics(testX, testY, model):\n",
    "    y_scores = model.predict(testX)\n",
    "    precision, recall, thresholds = precision_recall_curve(testY, y_scores)\n",
    "    rec80 = np.max(recall[precision >= .8])\n",
    "    print(\"Recall at 80% Precision: \" +str(rec80))\n",
    "    aucPR = auc(recall, precision)\n",
    "    print(\"PR-AUC: \" + str(aucPR))\n",
    "    \n",
    "    return rec80, aucPR, \n",
    "\n",
    "#plots a PR curve\n",
    "def PRplot(testX, testY, model):\n",
    "    y_scores = model.predict(testX)\n",
    "    precision, recall, thresholds = precision_recall_curve(testY, y_scores)\n",
    "    plt.plot(recall, precision)\n",
    "    plt.title(\"PR curve\")\n",
    "    plt.xlabel(\"Recall\")\n",
    "    plt.ylabel(\"Precision\")"
   ]
  },
  {
   "cell_type": "code",
   "execution_count": 6,
   "metadata": {},
   "outputs": [
    {
     "name": "stdout",
     "output_type": "stream",
     "text": [
      "Recall at 80% Precision: 0.6733648542159181\n",
      "PR-AUC: 0.8473881260625731\n",
      "[[1961  577]\n",
      " [ 648 1890]]\n"
     ]
    },
    {
     "data": {
      "image/png": "[encoded data removed]",
      "text/plain": [
       "<Figure size 432x288 with 1 Axes>"
      ]
     },
     "metadata": {
      "needs_background": "light"
     },
     "output_type": "display_data"
    }
   ],
   "source": [
    "modelMetrics(testX, testY, model)\n",
    "confusionMatrix(model, testX, testY)\n",
    "PRplot(testX, testY, model)"
   ]
  },
  {
   "cell_type": "code",
   "execution_count": null,
   "metadata": {},
   "outputs": [],
   "source": []
  }
 ],
 "metadata": {
  "kernelspec": {
   "display_name": "Python 3 (ipykernel)",
   "language": "python",
   "name": "python3"
  },
  "language_info": {
   "codemirror_mode": {
    "name": "ipython",
    "version": 3
   },
   "file_extension": ".py",
   "mimetype": "text/x-python",
   "name": "python",
   "nbconvert_exporter": "python",
   "pygments_lexer": "ipython3",
   "version": "3.9.7"
  }
 },
 "nbformat": 4,
 "nbformat_minor": 2
}
