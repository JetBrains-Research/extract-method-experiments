{
 "cells": [
  {
   "cell_type": "code",
   "execution_count": 1,
   "id": "8abe9a8e",
   "metadata": {},
   "outputs": [],
   "source": [
    "import pandas as pd\n",
    "import joblib\n",
    "import plotly.express as px\n",
    "from sklearn.metrics import precision_recall_curve\n",
    "from sklearn.metrics import auc\n",
    "import warnings\n",
    "warnings.filterwarnings('ignore')\n",
    "\n",
    "def plot_pr_curve(model, x, y, title='Precision-Recall curve'):\n",
    "    y_pred = model.predict_proba(x)[:,1]\n",
    "    precision, recall, thresholds = precision_recall_curve(y, y_pred)\n",
    "    df = pd.DataFrame({'Precision':precision[:-1],\n",
    "                                    'Recall':recall[:-1],\n",
    "                                    'Threshold':thresholds})\n",
    "    \n",
    "#     fig = px.scatter(df, x='Recall', y='Precision')\n",
    "#     fig.update_layout(title=title)\n",
    "#     fig.show()\n",
    "    \n",
    "    best_recall = 0\n",
    "    threshold = 0\n",
    "    for i in range(len(recall)-1):\n",
    "        if precision[i] > 0.8:\n",
    "            best_recall = round(recall[i], 3)\n",
    "            threshold = round(thresholds[i], 3)\n",
    "            break\n",
    "\n",
    "    print(f'auc: {auc(recall, precision)}')\n",
    "    print(f'at 0.8 precision, recall is approx {best_recall}, at threshold {threshold}')"
   ]
  },
  {
   "cell_type": "code",
   "execution_count": 2,
   "id": "bc457c30",
   "metadata": {},
   "outputs": [],
   "source": [
    "from src.dataset_importer import TestImporter\n",
    "from src.utils import import_test_configuration\n",
    "\n",
    "config = import_test_configuration('test_settings/test_settings.ini')\n",
    "X, y = TestImporter(config).make_test()\n",
    "\n",
    "rf1 = joblib.load('n_models/rf2.sav')\n",
    "svc1 = joblib.load('n_models/svc_95.sav')\n",
    "gnb1 = joblib.load('models/model_37/trained.sav')\n",
    "mlp1 = joblib.load('models/model_39/trained.sav')\n",
    "gradboost1 = joblib.load('n_models/gradboost2.sav')"
   ]
  },
  {
   "cell_type": "code",
   "execution_count": 13,
   "id": "6299183d",
   "metadata": {},
   "outputs": [
    {
     "data": {
      "text/plain": [
       "0          6.0\n",
       "1          1.0\n",
       "2          9.0\n",
       "3          9.0\n",
       "4         12.0\n",
       "          ... \n",
       "203072     1.0\n",
       "203073     1.0\n",
       "203074     7.0\n",
       "203075    15.0\n",
       "203076    22.0\n",
       "Name: TotalLinesOfCode, Length: 203077, dtype: float64"
      ]
     },
     "execution_count": 13,
     "metadata": {},
     "output_type": "execute_result"
    }
   ],
   "source": [
    "X.TotalLinesOfCode"
   ]
  },
  {
   "cell_type": "markdown",
   "id": "1acd733e",
   "metadata": {},
   "source": [
    "### 80-20 split, 95th percentile"
   ]
  },
  {
   "cell_type": "code",
   "execution_count": 3,
   "id": "2423afa7",
   "metadata": {
    "scrolled": true
   },
   "outputs": [
    {
     "name": "stdout",
     "output_type": "stream",
     "text": [
      "auc: 0.297585594568989\n",
      "at 0.8 precision, recall is approx 0.205, at threshold 0.104\n",
      "Wall time: 8.98 s\n"
     ]
    }
   ],
   "source": [
    "%%time\n",
    "plot_pr_curve(rf1, X, y, title='Precision Recall curve for RandomForest')"
   ]
  },
  {
   "cell_type": "code",
   "execution_count": 11,
   "id": "0c482778",
   "metadata": {},
   "outputs": [
    {
     "name": "stdout",
     "output_type": "stream",
     "text": [
      "auc: 0.11927500863997646\n",
      "at 0.8 precision, recall is approx 0, at threshold 0\n",
      "Wall time: 446 ms\n"
     ]
    }
   ],
   "source": [
    "%%time\n",
    "plot_pr_curve(gnb1, X, y, title='Precision Recall curve for NaiveBayes')"
   ]
  },
  {
   "cell_type": "code",
   "execution_count": 5,
   "id": "f6ba8b30",
   "metadata": {},
   "outputs": [
    {
     "name": "stdout",
     "output_type": "stream",
     "text": [
      "auc: 0.6345016681264436\n",
      "at 0.8 precision, recall is approx 0.487, at threshold 0.409\n",
      "Wall time: 473 ms\n"
     ]
    }
   ],
   "source": [
    "%%time\n",
    "plot_pr_curve(mlp1, X, y, title='Precision Recall curve for MLP')"
   ]
  },
  {
   "cell_type": "code",
   "execution_count": 6,
   "id": "cd4f8dbb",
   "metadata": {},
   "outputs": [
    {
     "name": "stdout",
     "output_type": "stream",
     "text": [
      "auc: 0.7037847165026446\n",
      "at 0.8 precision, recall is approx 0.68, at threshold 0.198\n",
      "Wall time: 4.28 s\n"
     ]
    }
   ],
   "source": [
    "%%time\n",
    "plot_pr_curve(gradboost1, X, y, title='Precision Recall curve for GradBoostClassifier')"
   ]
  },
  {
   "cell_type": "code",
   "execution_count": 7,
   "id": "04643bbc",
   "metadata": {},
   "outputs": [
    {
     "name": "stdout",
     "output_type": "stream",
     "text": [
      "auc: 0.11508867332105673\n",
      "at 0.8 precision, recall is approx 0.018, at threshold 0.141\n",
      "Wall time: 37min 47s\n"
     ]
    }
   ],
   "source": [
    "%%time\n",
    "plot_pr_curve(svc1, X, y, title='Precision Recall curve for SVM')"
   ]
  }
 ],
 "metadata": {
  "kernelspec": {
   "display_name": "Python 3",
   "language": "python",
   "name": "python3"
  },
  "language_info": {
   "codemirror_mode": {
    "name": "ipython",
    "version": 3
   },
   "file_extension": ".py",
   "mimetype": "text/x-python",
   "name": "python",
   "nbconvert_exporter": "python",
   "pygments_lexer": "ipython3",
   "version": "3.8.8"
  }
 },
 "nbformat": 4,
 "nbformat_minor": 5
}
